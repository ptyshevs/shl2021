{
 "cells": [
  {
   "cell_type": "code",
   "execution_count": 1,
   "id": "119d9487-d9bf-43a5-9669-7c97543e1f8a",
   "metadata": {},
   "outputs": [],
   "source": [
    "%load_ext autoreload\n",
    "%autoreload 2"
   ]
  },
  {
   "cell_type": "code",
   "execution_count": 2,
   "id": "f71043f2-ade3-4af9-ada8-94fba469fd3c",
   "metadata": {},
   "outputs": [],
   "source": [
    "import pandas as pd\n",
    "import numpy as np\n",
    "from tqdm.auto import tqdm\n",
    "\n",
    "from wifi import get_wifi_df\n",
    "from labels import get_labels_df, get_cls2label"
   ]
  },
  {
   "cell_type": "code",
   "execution_count": 3,
   "id": "a5562e60-ad6b-4c23-849b-62fdf74f4a97",
   "metadata": {},
   "outputs": [
    {
     "data": {
      "application/vnd.jupyter.widget-view+json": {
       "model_id": "3b8b7a72988e482bbb4b0316b4a54897",
       "version_major": 2,
       "version_minor": 0
      },
      "text/plain": [
       "0it [00:00, ?it/s]"
      ]
     },
     "metadata": {},
     "output_type": "display_data"
    },
    {
     "data": {
      "text/html": [
       "<div>\n",
       "<style scoped>\n",
       "    .dataframe tbody tr th:only-of-type {\n",
       "        vertical-align: middle;\n",
       "    }\n",
       "\n",
       "    .dataframe tbody tr th {\n",
       "        vertical-align: top;\n",
       "    }\n",
       "\n",
       "    .dataframe thead th {\n",
       "        text-align: right;\n",
       "    }\n",
       "</style>\n",
       "<table border=\"1\" class=\"dataframe\">\n",
       "  <thead>\n",
       "    <tr style=\"text-align: right;\">\n",
       "      <th></th>\n",
       "      <th>ts</th>\n",
       "      <th>n_spots</th>\n",
       "      <th>bssid</th>\n",
       "      <th>ssid</th>\n",
       "      <th>rssi</th>\n",
       "      <th>freq</th>\n",
       "      <th>capabilities</th>\n",
       "    </tr>\n",
       "  </thead>\n",
       "  <tbody>\n",
       "    <tr>\n",
       "      <th>0</th>\n",
       "      <td>2017-03-25 08:35:23.358</td>\n",
       "      <td>10</td>\n",
       "      <td>c0:05:c2:29:40:ff</td>\n",
       "      <td>VM8236218</td>\n",
       "      <td>-56.0</td>\n",
       "      <td>5220.0</td>\n",
       "      <td>[WPA2-PSK-CCMP+TKIP][WPS][ESS]</td>\n",
       "    </tr>\n",
       "    <tr>\n",
       "      <th>1</th>\n",
       "      <td>2017-03-25 08:35:23.358</td>\n",
       "      <td>10</td>\n",
       "      <td>c4:04:15:e4:5b:30</td>\n",
       "      <td>VM201213-2G</td>\n",
       "      <td>-70.0</td>\n",
       "      <td>2437.0</td>\n",
       "      <td>[WPA-PSK-CCMP+TKIP][WPA2-PSK-CCMP+TKIP][WPS][ESS]</td>\n",
       "    </tr>\n",
       "    <tr>\n",
       "      <th>2</th>\n",
       "      <td>2017-03-25 08:35:23.358</td>\n",
       "      <td>10</td>\n",
       "      <td>a0:63:91:a2:5a:50</td>\n",
       "      <td>VM702835-2G_EXT</td>\n",
       "      <td>-85.0</td>\n",
       "      <td>2462.0</td>\n",
       "      <td>[WPA-PSK-CCMP+TKIP][WPA2-PSK-CCMP+TKIP][WPS][ESS]</td>\n",
       "    </tr>\n",
       "    <tr>\n",
       "      <th>3</th>\n",
       "      <td>2017-03-25 08:35:23.358</td>\n",
       "      <td>10</td>\n",
       "      <td>c0:05:c2:29:40:f9</td>\n",
       "      <td>VM8236218</td>\n",
       "      <td>-55.0</td>\n",
       "      <td>2412.0</td>\n",
       "      <td>[WPA-PSK-CCMP+TKIP][WPA2-PSK-CCMP+TKIP][WPS][ESS]</td>\n",
       "    </tr>\n",
       "    <tr>\n",
       "      <th>4</th>\n",
       "      <td>2017-03-25 08:35:23.358</td>\n",
       "      <td>10</td>\n",
       "      <td>98:e7:f5:b9:3f:14</td>\n",
       "      <td>TALKTALKB93F0E</td>\n",
       "      <td>-65.0</td>\n",
       "      <td>2432.0</td>\n",
       "      <td>[WPA-PSK-CCMP+TKIP][WPA2-PSK-CCMP+TKIP][WPS][ESS]</td>\n",
       "    </tr>\n",
       "  </tbody>\n",
       "</table>\n",
       "</div>"
      ],
      "text/plain": [
       "                       ts  n_spots              bssid             ssid  rssi  \\\n",
       "0 2017-03-25 08:35:23.358       10  c0:05:c2:29:40:ff        VM8236218 -56.0   \n",
       "1 2017-03-25 08:35:23.358       10  c4:04:15:e4:5b:30      VM201213-2G -70.0   \n",
       "2 2017-03-25 08:35:23.358       10  a0:63:91:a2:5a:50  VM702835-2G_EXT -85.0   \n",
       "3 2017-03-25 08:35:23.358       10  c0:05:c2:29:40:f9        VM8236218 -55.0   \n",
       "4 2017-03-25 08:35:23.358       10  98:e7:f5:b9:3f:14   TALKTALKB93F0E -65.0   \n",
       "\n",
       "     freq                                       capabilities  \n",
       "0  5220.0                     [WPA2-PSK-CCMP+TKIP][WPS][ESS]  \n",
       "1  2437.0  [WPA-PSK-CCMP+TKIP][WPA2-PSK-CCMP+TKIP][WPS][ESS]  \n",
       "2  2462.0  [WPA-PSK-CCMP+TKIP][WPA2-PSK-CCMP+TKIP][WPS][ESS]  \n",
       "3  2412.0  [WPA-PSK-CCMP+TKIP][WPA2-PSK-CCMP+TKIP][WPS][ESS]  \n",
       "4  2432.0  [WPA-PSK-CCMP+TKIP][WPA2-PSK-CCMP+TKIP][WPS][ESS]  "
      ]
     },
     "execution_count": 3,
     "metadata": {},
     "output_type": "execute_result"
    }
   ],
   "source": [
    "df = get_wifi_df('data/SHL-2021-Train/WiFi.txt')\n",
    "df.head()"
   ]
  },
  {
   "cell_type": "code",
   "execution_count": 4,
   "id": "12702793-aa90-49f1-9dbb-a102420bef19",
   "metadata": {},
   "outputs": [
    {
     "data": {
      "text/plain": [
       "(13012752, 7)"
      ]
     },
     "execution_count": 4,
     "metadata": {},
     "output_type": "execute_result"
    }
   ],
   "source": [
    "df.shape"
   ]
  },
  {
   "cell_type": "code",
   "execution_count": 5,
   "id": "9268cb22-29e6-40a7-ae13-3e857977eadf",
   "metadata": {},
   "outputs": [
    {
     "name": "stdout",
     "output_type": "stream",
     "text": [
      "<class 'pandas.core.frame.DataFrame'>\n",
      "RangeIndex: 13012752 entries, 0 to 13012751\n",
      "Data columns (total 7 columns):\n",
      " #   Column        Dtype         \n",
      "---  ------        -----         \n",
      " 0   ts            datetime64[ns]\n",
      " 1   n_spots       uint16        \n",
      " 2   bssid         object        \n",
      " 3   ssid          object        \n",
      " 4   rssi          float64       \n",
      " 5   freq          float64       \n",
      " 6   capabilities  object        \n",
      "dtypes: datetime64[ns](1), float64(2), object(3), uint16(1)\n",
      "memory usage: 3.0 GB\n"
     ]
    }
   ],
   "source": [
    "df.info(memory_usage='deep')"
   ]
  },
  {
   "cell_type": "code",
   "execution_count": 6,
   "id": "905463ed-efab-42c5-808f-97e6f2823d32",
   "metadata": {},
   "outputs": [
    {
     "data": {
      "text/html": [
       "<div>\n",
       "<style scoped>\n",
       "    .dataframe tbody tr th:only-of-type {\n",
       "        vertical-align: middle;\n",
       "    }\n",
       "\n",
       "    .dataframe tbody tr th {\n",
       "        vertical-align: top;\n",
       "    }\n",
       "\n",
       "    .dataframe thead th {\n",
       "        text-align: right;\n",
       "    }\n",
       "</style>\n",
       "<table border=\"1\" class=\"dataframe\">\n",
       "  <thead>\n",
       "    <tr style=\"text-align: right;\">\n",
       "      <th></th>\n",
       "      <th>ts</th>\n",
       "      <th>label</th>\n",
       "    </tr>\n",
       "  </thead>\n",
       "  <tbody>\n",
       "    <tr>\n",
       "      <th>0</th>\n",
       "      <td>2017-03-25 08:46:23</td>\n",
       "      <td>4</td>\n",
       "    </tr>\n",
       "    <tr>\n",
       "      <th>1</th>\n",
       "      <td>2017-03-25 08:46:24</td>\n",
       "      <td>4</td>\n",
       "    </tr>\n",
       "    <tr>\n",
       "      <th>2</th>\n",
       "      <td>2017-03-25 08:46:25</td>\n",
       "      <td>4</td>\n",
       "    </tr>\n",
       "    <tr>\n",
       "      <th>3</th>\n",
       "      <td>2017-03-25 08:46:26</td>\n",
       "      <td>4</td>\n",
       "    </tr>\n",
       "    <tr>\n",
       "      <th>4</th>\n",
       "      <td>2017-03-25 08:46:27</td>\n",
       "      <td>4</td>\n",
       "    </tr>\n",
       "  </tbody>\n",
       "</table>\n",
       "</div>"
      ],
      "text/plain": [
       "                   ts  label\n",
       "0 2017-03-25 08:46:23      4\n",
       "1 2017-03-25 08:46:24      4\n",
       "2 2017-03-25 08:46:25      4\n",
       "3 2017-03-25 08:46:26      4\n",
       "4 2017-03-25 08:46:27      4"
      ]
     },
     "execution_count": 6,
     "metadata": {},
     "output_type": "execute_result"
    }
   ],
   "source": [
    "cls2label = get_cls2label()\n",
    "\n",
    "label_df = get_labels_df('data/SHL-2021-Train/Label.txt')\n",
    "label_df.head()"
   ]
  },
  {
   "cell_type": "code",
   "execution_count": 7,
   "id": "e14c6088-5775-4d7b-8ded-c78847eb967d",
   "metadata": {},
   "outputs": [
    {
     "ename": "ModuleNotFoundError",
     "evalue": "No module named 'plotly'",
     "output_type": "error",
     "traceback": [
      "\u001b[0;31m---------------------------------------------------------------------------\u001b[0m",
      "\u001b[0;31mModuleNotFoundError\u001b[0m                       Traceback (most recent call last)",
      "\u001b[0;32m<ipython-input-7-ca66be2815fc>\u001b[0m in \u001b[0;36m<module>\u001b[0;34m\u001b[0m\n\u001b[0;32m----> 1\u001b[0;31m \u001b[0;32mimport\u001b[0m \u001b[0mplotly\u001b[0m\u001b[0;34m.\u001b[0m\u001b[0mexpress\u001b[0m \u001b[0;32mas\u001b[0m \u001b[0mpx\u001b[0m\u001b[0;34m\u001b[0m\u001b[0;34m\u001b[0m\u001b[0m\n\u001b[0m\u001b[1;32m      2\u001b[0m \u001b[0;32mimport\u001b[0m \u001b[0mplotly\u001b[0m\u001b[0;34m.\u001b[0m\u001b[0mgraph_objects\u001b[0m \u001b[0;32mas\u001b[0m \u001b[0mgo\u001b[0m\u001b[0;34m\u001b[0m\u001b[0;34m\u001b[0m\u001b[0m\n",
      "\u001b[0;31mModuleNotFoundError\u001b[0m: No module named 'plotly'"
     ]
    }
   ],
   "source": [
    "import plotly.express as px\n",
    "import plotly.graph_objects as go"
   ]
  },
  {
   "cell_type": "code",
   "execution_count": null,
   "id": "57804870-84d1-485e-b021-98f238677fca",
   "metadata": {},
   "outputs": [],
   "source": [
    "fig = px.line(label_df.iloc[::20, :], x='ts', y='label')\n",
    "fig.show()"
   ]
  },
  {
   "cell_type": "code",
   "execution_count": 8,
   "id": "eb52d0f2-8092-44b2-9503-00d5e9d214b1",
   "metadata": {},
   "outputs": [
    {
     "data": {
      "text/html": [
       "<div>\n",
       "<style scoped>\n",
       "    .dataframe tbody tr th:only-of-type {\n",
       "        vertical-align: middle;\n",
       "    }\n",
       "\n",
       "    .dataframe tbody tr th {\n",
       "        vertical-align: top;\n",
       "    }\n",
       "\n",
       "    .dataframe thead th {\n",
       "        text-align: right;\n",
       "    }\n",
       "</style>\n",
       "<table border=\"1\" class=\"dataframe\">\n",
       "  <thead>\n",
       "    <tr style=\"text-align: right;\">\n",
       "      <th></th>\n",
       "      <th>ts</th>\n",
       "      <th>label</th>\n",
       "    </tr>\n",
       "  </thead>\n",
       "  <tbody>\n",
       "    <tr>\n",
       "      <th>0</th>\n",
       "      <td>2017-03-25 08:46:23</td>\n",
       "      <td>4</td>\n",
       "    </tr>\n",
       "    <tr>\n",
       "      <th>1</th>\n",
       "      <td>2017-03-25 08:46:24</td>\n",
       "      <td>4</td>\n",
       "    </tr>\n",
       "    <tr>\n",
       "      <th>2</th>\n",
       "      <td>2017-03-25 08:46:25</td>\n",
       "      <td>4</td>\n",
       "    </tr>\n",
       "    <tr>\n",
       "      <th>3</th>\n",
       "      <td>2017-03-25 08:46:26</td>\n",
       "      <td>4</td>\n",
       "    </tr>\n",
       "    <tr>\n",
       "      <th>4</th>\n",
       "      <td>2017-03-25 08:46:27</td>\n",
       "      <td>4</td>\n",
       "    </tr>\n",
       "  </tbody>\n",
       "</table>\n",
       "</div>"
      ],
      "text/plain": [
       "                   ts  label\n",
       "0 2017-03-25 08:46:23      4\n",
       "1 2017-03-25 08:46:24      4\n",
       "2 2017-03-25 08:46:25      4\n",
       "3 2017-03-25 08:46:26      4\n",
       "4 2017-03-25 08:46:27      4"
      ]
     },
     "execution_count": 8,
     "metadata": {},
     "output_type": "execute_result"
    }
   ],
   "source": [
    "label_df.head()"
   ]
  },
  {
   "cell_type": "code",
   "execution_count": 9,
   "id": "640aa331-a799-488b-828d-4d018bd3af7d",
   "metadata": {},
   "outputs": [],
   "source": [
    "from labels import merge_data_labels"
   ]
  },
  {
   "cell_type": "code",
   "execution_count": 10,
   "id": "7b4b1425-acd4-43a5-9698-d0c3731e2e85",
   "metadata": {},
   "outputs": [],
   "source": [
    "merged_df = merge_data_labels(df, label_df)"
   ]
  },
  {
   "cell_type": "code",
   "execution_count": 11,
   "id": "a569e5dd-0541-48b1-8a4b-311d99a7d1dc",
   "metadata": {},
   "outputs": [],
   "source": [
    "def freq2band(freq):\n",
    "    return '5khz' if abs(freq - 5220) < abs(freq - 2420) else '2khz'"
   ]
  },
  {
   "cell_type": "markdown",
   "id": "b8f1ae3f-5bde-4a30-934f-b69d678a6ec2",
   "metadata": {},
   "source": [
    "## Feature Extraction"
   ]
  },
  {
   "cell_type": "code",
   "execution_count": 12,
   "id": "1cb37bb3-ebf4-4d28-be20-bebff511f066",
   "metadata": {},
   "outputs": [],
   "source": [
    "def ts_group_apply(group):\n",
    "    row_features = {}\n",
    "    \n",
    "    # ts features:\n",
    "    ts = group.ts.iloc[0]\n",
    "    row_features['hour'] = ts.hour\n",
    "    row_features['minute'] = ts.minute\n",
    "    row_features['day_of_week'] = ts.day_of_week\n",
    "    \n",
    "    # n of spots and optional lables\n",
    "    row_features['n_spots'] = group.n_spots.iloc[0]\n",
    "    if 'label' in group.columns:\n",
    "        row_features['label'] = group.label.iloc[0]\n",
    "    \n",
    "    \n",
    "    # cmb as well as gorup by frequency band\n",
    "    freq_band = group.freq.apply(freq2band)\n",
    "    \n",
    "    for band_selector in ['cmb', '2khz', '5khz']:\n",
    "        if band_selector == 'cmb':\n",
    "            band_group = group.rssi\n",
    "        else:\n",
    "            band_group = group.rssi[freq_band == band_selector]\n",
    "        \n",
    "        agg_group = band_group.agg(aggregations)\n",
    "        for m, l in agg_group.items():\n",
    "            row_features[f'rssi_{band_selector}_{m}'] = l\n",
    "    \n",
    "    return row_features"
   ]
  },
  {
   "cell_type": "code",
   "execution_count": 16,
   "id": "7441c398-11f8-4083-b252-1e63acb874d7",
   "metadata": {},
   "outputs": [
    {
     "name": "stdout",
     "output_type": "stream",
     "text": [
      "INFO: Pandarallel will run on 12 workers.\n",
      "INFO: Pandarallel will use standard multiprocessing data transfer (pipe) to transfer data between the main process and workers.\n"
     ]
    }
   ],
   "source": [
    "from pandarallel import pandarallel\n",
    "\n",
    "pandarallel.initialize(progress_bar=False)"
   ]
  },
  {
   "cell_type": "code",
   "execution_count": null,
   "id": "ae64dc63-615f-404e-a06b-68354d025d2b",
   "metadata": {},
   "outputs": [],
   "source": [
    "features = []\n",
    "\n",
    "aggregations = ['count', 'min', 'mean', 'std', 'max']\n",
    "\n",
    "group_iter = merged_df.groupby('ts')\n",
    "\n",
    "res_df = group_iter.parallel_apply(ts_group_apply)"
   ]
  },
  {
   "cell_type": "markdown",
   "id": "e47a88e3-eaba-408c-9ef2-f8e0a5949c5e",
   "metadata": {},
   "source": [
    "## Preprocessing"
   ]
  },
  {
   "cell_type": "code",
   "execution_count": null,
   "id": "4a14aecf-ab3c-41ca-be12-665fc2d14775",
   "metadata": {},
   "outputs": [],
   "source": [
    "prep_df = res_df.fillna(0)"
   ]
  },
  {
   "cell_type": "code",
   "execution_count": null,
   "id": "5978ccf9-562f-40ff-9b3a-60eb6f78483f",
   "metadata": {},
   "outputs": [],
   "source": [
    "prep_df"
   ]
  }
 ],
 "metadata": {
  "kernelspec": {
   "display_name": "Python 3",
   "language": "python",
   "name": "python3"
  },
  "language_info": {
   "codemirror_mode": {
    "name": "ipython",
    "version": 3
   },
   "file_extension": ".py",
   "mimetype": "text/x-python",
   "name": "python",
   "nbconvert_exporter": "python",
   "pygments_lexer": "ipython3",
   "version": "3.8.10"
  }
 },
 "nbformat": 4,
 "nbformat_minor": 5
}
