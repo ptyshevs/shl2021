{
 "cells": [
  {
   "cell_type": "code",
   "execution_count": 1,
   "id": "f71043f2-ade3-4af9-ada8-94fba469fd3c",
   "metadata": {},
   "outputs": [],
   "source": [
    "import pandas as pd\n",
    "import numpy as np\n",
    "from tqdm.auto import tqdm\n",
    "from wifi import get_wifi_df"
   ]
  },
  {
   "cell_type": "code",
   "execution_count": 2,
   "id": "a5562e60-ad6b-4c23-849b-62fdf74f4a97",
   "metadata": {},
   "outputs": [
    {
     "data": {
      "application/vnd.jupyter.widget-view+json": {
       "model_id": "ed0b638037654c2db576f472ad0d55c1",
       "version_major": 2,
       "version_minor": 0
      },
      "text/plain": [
       "0it [00:00, ?it/s]"
      ]
     },
     "metadata": {},
     "output_type": "display_data"
    }
   ],
   "source": [
    "df = get_wifi_df('data/SHL-2021-Train/WiFi.txt', nrows=1000000)"
   ]
  },
  {
   "cell_type": "code",
   "execution_count": 4,
   "id": "12702793-aa90-49f1-9dbb-a102420bef19",
   "metadata": {},
   "outputs": [
    {
     "data": {
      "text/plain": [
       "(1000000, 7)"
      ]
     },
     "execution_count": 4,
     "metadata": {},
     "output_type": "execute_result"
    }
   ],
   "source": [
    "df.shape"
   ]
  },
  {
   "cell_type": "code",
   "execution_count": 5,
   "id": "9268cb22-29e6-40a7-ae13-3e857977eadf",
   "metadata": {},
   "outputs": [
    {
     "name": "stdout",
     "output_type": "stream",
     "text": [
      "<class 'pandas.core.frame.DataFrame'>\n",
      "RangeIndex: 1000000 entries, 0 to 999999\n",
      "Data columns (total 7 columns):\n",
      " #   Column        Non-Null Count    Dtype         \n",
      "---  ------        --------------    -----         \n",
      " 0   ts            1000000 non-null  datetime64[ns]\n",
      " 1   n_spots       1000000 non-null  uint16        \n",
      " 2   bssid         984758 non-null   object        \n",
      " 3   ssid          984758 non-null   object        \n",
      " 4   rssi          984758 non-null   float64       \n",
      " 5   freq          984758 non-null   float64       \n",
      " 6   capabilities  984758 non-null   object        \n",
      "dtypes: datetime64[ns](1), float64(2), object(3), uint16(1)\n",
      "memory usage: 235.4 MB\n"
     ]
    }
   ],
   "source": [
    "df.info(memory_usage='deep')"
   ]
  },
  {
   "cell_type": "code",
   "execution_count": 6,
   "id": "edd3493d-3172-44f8-8838-558cf32fb4b7",
   "metadata": {},
   "outputs": [
    {
     "data": {
      "text/html": [
       "<div>\n",
       "<style scoped>\n",
       "    .dataframe tbody tr th:only-of-type {\n",
       "        vertical-align: middle;\n",
       "    }\n",
       "\n",
       "    .dataframe tbody tr th {\n",
       "        vertical-align: top;\n",
       "    }\n",
       "\n",
       "    .dataframe thead th {\n",
       "        text-align: right;\n",
       "    }\n",
       "</style>\n",
       "<table border=\"1\" class=\"dataframe\">\n",
       "  <thead>\n",
       "    <tr style=\"text-align: right;\">\n",
       "      <th></th>\n",
       "      <th>ts</th>\n",
       "      <th>n_spots</th>\n",
       "      <th>bssid</th>\n",
       "      <th>ssid</th>\n",
       "      <th>rssi</th>\n",
       "      <th>freq</th>\n",
       "      <th>capabilities</th>\n",
       "    </tr>\n",
       "  </thead>\n",
       "  <tbody>\n",
       "    <tr>\n",
       "      <th>0</th>\n",
       "      <td>2017-03-25 08:35:23.358</td>\n",
       "      <td>10</td>\n",
       "      <td>c0:05:c2:29:40:ff</td>\n",
       "      <td>VM8236218</td>\n",
       "      <td>-56.0</td>\n",
       "      <td>5220.0</td>\n",
       "      <td>[WPA2-PSK-CCMP+TKIP][WPS][ESS]</td>\n",
       "    </tr>\n",
       "    <tr>\n",
       "      <th>1</th>\n",
       "      <td>2017-03-25 08:35:23.358</td>\n",
       "      <td>10</td>\n",
       "      <td>c4:04:15:e4:5b:30</td>\n",
       "      <td>VM201213-2G</td>\n",
       "      <td>-70.0</td>\n",
       "      <td>2437.0</td>\n",
       "      <td>[WPA-PSK-CCMP+TKIP][WPA2-PSK-CCMP+TKIP][WPS][ESS]</td>\n",
       "    </tr>\n",
       "    <tr>\n",
       "      <th>2</th>\n",
       "      <td>2017-03-25 08:35:23.358</td>\n",
       "      <td>10</td>\n",
       "      <td>a0:63:91:a2:5a:50</td>\n",
       "      <td>VM702835-2G_EXT</td>\n",
       "      <td>-85.0</td>\n",
       "      <td>2462.0</td>\n",
       "      <td>[WPA-PSK-CCMP+TKIP][WPA2-PSK-CCMP+TKIP][WPS][ESS]</td>\n",
       "    </tr>\n",
       "    <tr>\n",
       "      <th>3</th>\n",
       "      <td>2017-03-25 08:35:23.358</td>\n",
       "      <td>10</td>\n",
       "      <td>c0:05:c2:29:40:f9</td>\n",
       "      <td>VM8236218</td>\n",
       "      <td>-55.0</td>\n",
       "      <td>2412.0</td>\n",
       "      <td>[WPA-PSK-CCMP+TKIP][WPA2-PSK-CCMP+TKIP][WPS][ESS]</td>\n",
       "    </tr>\n",
       "    <tr>\n",
       "      <th>4</th>\n",
       "      <td>2017-03-25 08:35:23.358</td>\n",
       "      <td>10</td>\n",
       "      <td>98:e7:f5:b9:3f:14</td>\n",
       "      <td>TALKTALKB93F0E</td>\n",
       "      <td>-65.0</td>\n",
       "      <td>2432.0</td>\n",
       "      <td>[WPA-PSK-CCMP+TKIP][WPA2-PSK-CCMP+TKIP][WPS][ESS]</td>\n",
       "    </tr>\n",
       "    <tr>\n",
       "      <th>...</th>\n",
       "      <td>...</td>\n",
       "      <td>...</td>\n",
       "      <td>...</td>\n",
       "      <td>...</td>\n",
       "      <td>...</td>\n",
       "      <td>...</td>\n",
       "      <td>...</td>\n",
       "    </tr>\n",
       "    <tr>\n",
       "      <th>999995</th>\n",
       "      <td>2017-03-28 11:19:09.041</td>\n",
       "      <td>59</td>\n",
       "      <td>c8:f9:f9:4d:f1:69</td>\n",
       "      <td>VodafoneWiFi</td>\n",
       "      <td>-77.0</td>\n",
       "      <td>5260.0</td>\n",
       "      <td>[WPA2-EAP+FT/EAP-CCMP][ESS]</td>\n",
       "    </tr>\n",
       "    <tr>\n",
       "      <th>999996</th>\n",
       "      <td>2017-03-28 11:19:09.041</td>\n",
       "      <td>59</td>\n",
       "      <td>c8:f9:f9:4d:f1:6a</td>\n",
       "      <td>222666328</td>\n",
       "      <td>-77.0</td>\n",
       "      <td>5260.0</td>\n",
       "      <td>[WPA2-EAP+FT/EAP-CCMP][ESS]</td>\n",
       "    </tr>\n",
       "    <tr>\n",
       "      <th>999997</th>\n",
       "      <td>2017-03-28 11:19:09.041</td>\n",
       "      <td>59</td>\n",
       "      <td>c8:f9:f9:72:15:9b</td>\n",
       "      <td>Virgin Media</td>\n",
       "      <td>-73.0</td>\n",
       "      <td>2412.0</td>\n",
       "      <td>[WPA2-EAP+FT/EAP-CCMP][ESS]</td>\n",
       "    </tr>\n",
       "    <tr>\n",
       "      <th>999998</th>\n",
       "      <td>2017-03-28 11:19:09.041</td>\n",
       "      <td>59</td>\n",
       "      <td>c8:f9:f9:4d:f1:6c</td>\n",
       "      <td>1234</td>\n",
       "      <td>-79.0</td>\n",
       "      <td>5260.0</td>\n",
       "      <td>[WPA2-EAP-CCMP][ESS]</td>\n",
       "    </tr>\n",
       "    <tr>\n",
       "      <th>999999</th>\n",
       "      <td>2017-03-28 11:19:09.041</td>\n",
       "      <td>59</td>\n",
       "      <td>c8:f9:f9:72:15:96</td>\n",
       "      <td>EE WiFi-Auto</td>\n",
       "      <td>-80.0</td>\n",
       "      <td>5500.0</td>\n",
       "      <td>[WPA2-EAP+FT/EAP-CCMP][ESS]</td>\n",
       "    </tr>\n",
       "  </tbody>\n",
       "</table>\n",
       "<p>1000000 rows × 7 columns</p>\n",
       "</div>"
      ],
      "text/plain": [
       "                            ts  n_spots              bssid             ssid  \\\n",
       "0      2017-03-25 08:35:23.358       10  c0:05:c2:29:40:ff        VM8236218   \n",
       "1      2017-03-25 08:35:23.358       10  c4:04:15:e4:5b:30      VM201213-2G   \n",
       "2      2017-03-25 08:35:23.358       10  a0:63:91:a2:5a:50  VM702835-2G_EXT   \n",
       "3      2017-03-25 08:35:23.358       10  c0:05:c2:29:40:f9        VM8236218   \n",
       "4      2017-03-25 08:35:23.358       10  98:e7:f5:b9:3f:14   TALKTALKB93F0E   \n",
       "...                        ...      ...                ...              ...   \n",
       "999995 2017-03-28 11:19:09.041       59  c8:f9:f9:4d:f1:69     VodafoneWiFi   \n",
       "999996 2017-03-28 11:19:09.041       59  c8:f9:f9:4d:f1:6a        222666328   \n",
       "999997 2017-03-28 11:19:09.041       59  c8:f9:f9:72:15:9b     Virgin Media   \n",
       "999998 2017-03-28 11:19:09.041       59  c8:f9:f9:4d:f1:6c             1234   \n",
       "999999 2017-03-28 11:19:09.041       59  c8:f9:f9:72:15:96     EE WiFi-Auto   \n",
       "\n",
       "        rssi    freq                                       capabilities  \n",
       "0      -56.0  5220.0                     [WPA2-PSK-CCMP+TKIP][WPS][ESS]  \n",
       "1      -70.0  2437.0  [WPA-PSK-CCMP+TKIP][WPA2-PSK-CCMP+TKIP][WPS][ESS]  \n",
       "2      -85.0  2462.0  [WPA-PSK-CCMP+TKIP][WPA2-PSK-CCMP+TKIP][WPS][ESS]  \n",
       "3      -55.0  2412.0  [WPA-PSK-CCMP+TKIP][WPA2-PSK-CCMP+TKIP][WPS][ESS]  \n",
       "4      -65.0  2432.0  [WPA-PSK-CCMP+TKIP][WPA2-PSK-CCMP+TKIP][WPS][ESS]  \n",
       "...      ...     ...                                                ...  \n",
       "999995 -77.0  5260.0                        [WPA2-EAP+FT/EAP-CCMP][ESS]  \n",
       "999996 -77.0  5260.0                        [WPA2-EAP+FT/EAP-CCMP][ESS]  \n",
       "999997 -73.0  2412.0                        [WPA2-EAP+FT/EAP-CCMP][ESS]  \n",
       "999998 -79.0  5260.0                               [WPA2-EAP-CCMP][ESS]  \n",
       "999999 -80.0  5500.0                        [WPA2-EAP+FT/EAP-CCMP][ESS]  \n",
       "\n",
       "[1000000 rows x 7 columns]"
      ]
     },
     "execution_count": 6,
     "metadata": {},
     "output_type": "execute_result"
    }
   ],
   "source": [
    "df"
   ]
  }
 ],
 "metadata": {
  "kernelspec": {
   "display_name": "Python 3",
   "language": "python",
   "name": "python3"
  },
  "language_info": {
   "codemirror_mode": {
    "name": "ipython",
    "version": 3
   },
   "file_extension": ".py",
   "mimetype": "text/x-python",
   "name": "python",
   "nbconvert_exporter": "python",
   "pygments_lexer": "ipython3",
   "version": "3.8.9"
  }
 },
 "nbformat": 4,
 "nbformat_minor": 5
}
